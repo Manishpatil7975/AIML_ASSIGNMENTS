{
  "cells": [
    {
      "cell_type": "markdown",
      "metadata": {
        "id": "view-in-github",
        "colab_type": "text"
      },
      "source": [
        "<a href=\"https://colab.research.google.com/github/Manishpatil7975/AIML_ASSIGNMENTS/blob/main/assignment_2.ipynb\" target=\"_parent\"><img src=\"https://colab.research.google.com/assets/colab-badge.svg\" alt=\"Open In Colab\"/></a>"
      ]
    },
    {
      "cell_type": "code",
      "source": [
        "import numpy as np\n",
        "\n",
        "def matrix_multiply(A, B):\n",
        "    \"\"\"\n",
        "    Performs matrix multiplication between two matrices A and B using NumPy.\n",
        "    A: shape (m, n)\n",
        "    B: shape (n, p)\n",
        "    Returns: resulting matrix of shape (m, p)\n",
        "    \"\"\"\n",
        "    if A.shape[1] != B.shape[0]:\n",
        "        raise ValueError(\"Incompatible dimensions for matrix multiplication\")\n",
        "    return np.dot(A, B)\n",
        "\n",
        "\n",
        "A = np.array([[1, 2], [3, 4]])\n",
        "B = np.array([[5, 6], [7, 8]])\n",
        "result = matrix_multiply(A, B)\n",
        "print(\"Matrix Multiplication Result:\\n\", result)\n"
      ],
      "metadata": {
        "id": "kWtq8_x1PqMc",
        "outputId": "c7a796be-2cfb-489e-cfe5-236fb3d75345",
        "colab": {
          "base_uri": "https://localhost:8080/"
        }
      },
      "execution_count": 1,
      "outputs": [
        {
          "output_type": "stream",
          "name": "stdout",
          "text": [
            "Matrix Multiplication Result:\n",
            " [[19 22]\n",
            " [43 50]]\n"
          ]
        }
      ]
    },
    {
      "cell_type": "code",
      "source": [
        "def min_max_scaling(feature):\n",
        "    \"\"\"\n",
        "    Performs Min-Max scaling on a 1D NumPy array.\n",
        "    \"\"\"\n",
        "    min_val = np.min(feature)\n",
        "    max_val = np.max(feature)\n",
        "    return (feature - min_val) / (max_val - min_val)\n",
        "\n",
        "def standardize(feature):\n",
        "    \"\"\"\n",
        "    Performs Standardization (Z-score normalization) on a 1D NumPy array.\n",
        "    \"\"\"\n",
        "    mean = np.mean(feature)\n",
        "    std = np.std(feature)\n",
        "    return (feature - mean) / std\n",
        "\n",
        "# Example Dataset\n",
        "data = np.array([\n",
        "    [1, 200],\n",
        "    [2, 300],\n",
        "    [3, 400],\n",
        "    [4, 500],\n",
        "])\n",
        "\n",
        "# Apply to second column (feature index 1)\n",
        "feature = data[:, 1]\n",
        "\n",
        "minmax_scaled = min_max_scaling(feature)\n",
        "standardized = standardize(feature)\n",
        "\n",
        "print(\"\\nOriginal Feature:\", feature)\n",
        "print(\"Min-Max Scaled:\", minmax_scaled)\n",
        "print(\"Standardized:\", standardized)\n",
        "\n"
      ],
      "metadata": {
        "id": "ka7ylZ7CPy09",
        "outputId": "27568c88-c3e8-451e-e7b6-403b81a5e81e",
        "colab": {
          "base_uri": "https://localhost:8080/"
        }
      },
      "execution_count": 2,
      "outputs": [
        {
          "output_type": "stream",
          "name": "stdout",
          "text": [
            "\n",
            "Original Feature: [200 300 400 500]\n",
            "Min-Max Scaled: [0.         0.33333333 0.66666667 1.        ]\n",
            "Standardized: [-1.34164079 -0.4472136   0.4472136   1.34164079]\n"
          ]
        }
      ]
    }
  ],
  "metadata": {
    "colab": {
      "name": "Welcome To Colab",
      "toc_visible": true,
      "provenance": [],
      "include_colab_link": true
    },
    "kernelspec": {
      "display_name": "Python 3",
      "name": "python3"
    }
  },
  "nbformat": 4,
  "nbformat_minor": 0
}